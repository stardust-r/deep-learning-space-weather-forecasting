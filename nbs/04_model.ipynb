{
 "cells": [
  {
   "cell_type": "code",
   "execution_count": 7,
   "metadata": {},
   "outputs": [],
   "source": [
    "# default_exp model"
   ]
  },
  {
   "cell_type": "markdown",
   "metadata": {},
   "source": [
    "# N-BEATS Model: PyTorch Implementation"
   ]
  },
  {
   "cell_type": "markdown",
   "metadata": {},
   "source": [
    "Implementation from: https://github.com/philipperemy/n-beats/blob/master/nbeats_pytorch/model.py"
   ]
  },
  {
   "cell_type": "code",
   "execution_count": 8,
   "metadata": {},
   "outputs": [],
   "source": [
    "# export\n",
    "import numpy as np\n",
    "import torch\n",
    "from torch import nn\n",
    "from torch.nn import functional as F\n",
    "\n",
    "\n",
    "class NBeatsNet(nn.Module):\n",
    "    SEASONALITY_BLOCK = 'seasonality'\n",
    "    TREND_BLOCK = 'trend'\n",
    "    GENERIC_BLOCK = 'generic'\n",
    "\n",
    "    def __init__(self,\n",
    "                 device,\n",
    "                 stack_types=(TREND_BLOCK, SEASONALITY_BLOCK),\n",
    "                 nb_blocks_per_stack=3,\n",
    "                 forecast_length=5,\n",
    "                 backcast_length=10,\n",
    "                 thetas_dims=(4, 8),\n",
    "                 share_weights_in_stack=False,\n",
    "                 hidden_layer_units=256,\n",
    "                 nb_harmonics=None):\n",
    "        super(NBeatsNet, self).__init__()\n",
    "        self.forecast_length = forecast_length\n",
    "        self.backcast_length = backcast_length\n",
    "        self.hidden_layer_units = hidden_layer_units\n",
    "        self.nb_blocks_per_stack = nb_blocks_per_stack\n",
    "        self.share_weights_in_stack = share_weights_in_stack\n",
    "        self.nb_harmonics = nb_harmonics\n",
    "        self.stack_types = stack_types\n",
    "        self.stacks = []\n",
    "        self.thetas_dim = thetas_dims\n",
    "        self.parameters = []\n",
    "        self.device = device\n",
    "        print(f'| N-Beats')\n",
    "        for stack_id in range(len(self.stack_types)):\n",
    "            self.stacks.append(self.create_stack(stack_id))\n",
    "        self.parameters = nn.ParameterList(self.parameters)\n",
    "        self.to(self.device)\n",
    "\n",
    "    def create_stack(self, stack_id):\n",
    "        stack_type = self.stack_types[stack_id]\n",
    "        print(f'| --  Stack {stack_type.title()} (#{stack_id}) (share_weights_in_stack={self.share_weights_in_stack})')\n",
    "        blocks = []\n",
    "        for block_id in range(self.nb_blocks_per_stack):\n",
    "            block_init = NBeatsNet.select_block(stack_type)\n",
    "            if self.share_weights_in_stack and block_id != 0:\n",
    "                block = blocks[-1]  # pick up the last one when we share weights.\n",
    "            else:\n",
    "                block = block_init(self.hidden_layer_units, self.thetas_dim[stack_id],\n",
    "                                   self.device, self.backcast_length, self.forecast_length, self.nb_harmonics)\n",
    "                self.parameters.extend(block.parameters())\n",
    "            print(f'     | -- {block}')\n",
    "            blocks.append(block)\n",
    "        return blocks\n",
    "\n",
    "    @staticmethod\n",
    "    def select_block(block_type):\n",
    "        if block_type == NBeatsNet.SEASONALITY_BLOCK:\n",
    "            return SeasonalityBlock\n",
    "        elif block_type == NBeatsNet.TREND_BLOCK:\n",
    "            return TrendBlock\n",
    "        else:\n",
    "            return GenericBlock\n",
    "\n",
    "    def forward(self, backcast):\n",
    "        forecast = torch.zeros(size=(backcast.size()[0], self.forecast_length,))  # maybe batch size here.\n",
    "        for stack_id in range(len(self.stacks)):\n",
    "            for block_id in range(len(self.stacks[stack_id])):\n",
    "                b, f = self.stacks[stack_id][block_id](backcast)\n",
    "                backcast = backcast.to(self.device) - b\n",
    "                forecast = forecast.to(self.device) + f\n",
    "        return backcast, forecast\n",
    "\n",
    "\n",
    "def seasonality_model(thetas, t, device):\n",
    "    p = thetas.size()[-1]\n",
    "    assert p <= thetas.shape[1], 'thetas_dim is too big.'\n",
    "    p1, p2 = (p // 2, p // 2) if p % 2 == 0 else (p // 2, p // 2 + 1)\n",
    "    s1 = torch.tensor([np.cos(2 * np.pi * i * t) for i in range(p1)]).float()  # H/2-1\n",
    "    s2 = torch.tensor([np.sin(2 * np.pi * i * t) for i in range(p2)]).float()\n",
    "    S = torch.cat([s1, s2])\n",
    "    return thetas.mm(S.to(device))\n",
    "\n",
    "\n",
    "def trend_model(thetas, t, device):\n",
    "    p = thetas.size()[-1]\n",
    "    assert p <= 4, 'thetas_dim is too big.'\n",
    "    T = torch.tensor([t ** i for i in range(p)]).float()\n",
    "    return thetas.mm(T.to(device))\n",
    "\n",
    "\n",
    "def linspace(backcast_length, forecast_length):\n",
    "    lin_space = np.linspace(-backcast_length, forecast_length, backcast_length + forecast_length)\n",
    "    b_ls = lin_space[:backcast_length]\n",
    "    f_ls = lin_space[backcast_length:]\n",
    "    return b_ls, f_ls\n",
    "\n",
    "\n",
    "class Block(nn.Module):\n",
    "\n",
    "    def __init__(self, units, thetas_dim, device, backcast_length=10, forecast_length=5, share_thetas=False,\n",
    "                 nb_harmonics=None):\n",
    "        super(Block, self).__init__()\n",
    "        self.units = units\n",
    "        self.thetas_dim = thetas_dim\n",
    "        self.backcast_length = backcast_length\n",
    "        self.forecast_length = forecast_length\n",
    "        self.share_thetas = share_thetas\n",
    "        self.fc1 = nn.Linear(backcast_length, units)\n",
    "        self.fc2 = nn.Linear(units, units)\n",
    "        self.fc3 = nn.Linear(units, units)\n",
    "        self.fc4 = nn.Linear(units, units)\n",
    "        self.device = device\n",
    "        self.backcast_linspace, self.forecast_linspace = linspace(backcast_length, forecast_length)\n",
    "        if share_thetas:\n",
    "            self.theta_f_fc = self.theta_b_fc = nn.Linear(units, thetas_dim, bias=False)\n",
    "        else:\n",
    "            self.theta_b_fc = nn.Linear(units, thetas_dim, bias=False)\n",
    "            self.theta_f_fc = nn.Linear(units, thetas_dim, bias=False)\n",
    "\n",
    "    def forward(self, x):\n",
    "        x = F.relu(self.fc1(x.to(self.device)))\n",
    "        x = F.relu(self.fc2(x))\n",
    "        x = F.relu(self.fc3(x))\n",
    "        x = F.relu(self.fc4(x))\n",
    "        return x\n",
    "\n",
    "    def __str__(self):\n",
    "        block_type = type(self).__name__\n",
    "        return f'{block_type}(units={self.units}, thetas_dim={self.thetas_dim}, ' \\\n",
    "               f'backcast_length={self.backcast_length}, forecast_length={self.forecast_length}, ' \\\n",
    "               f'share_thetas={self.share_thetas}) at @{id(self)}'\n",
    "\n",
    "\n",
    "class SeasonalityBlock(Block):\n",
    "\n",
    "    def __init__(self, units, thetas_dim, device, backcast_length=10, forecast_length=5, nb_harmonics=None):\n",
    "        if nb_harmonics:\n",
    "            super(SeasonalityBlock, self).__init__(units, nb_harmonics, device, backcast_length,\n",
    "                                                   forecast_length, share_thetas=True)\n",
    "        else:\n",
    "            super(SeasonalityBlock, self).__init__(units, forecast_length, device, backcast_length,\n",
    "                                                   forecast_length, share_thetas=True)\n",
    "\n",
    "    def forward(self, x):\n",
    "        x = super(SeasonalityBlock, self).forward(x)\n",
    "        backcast = seasonality_model(self.theta_b_fc(x), self.backcast_linspace, self.device)\n",
    "        forecast = seasonality_model(self.theta_f_fc(x), self.forecast_linspace, self.device)\n",
    "        return backcast, forecast\n",
    "\n",
    "\n",
    "class TrendBlock(Block):\n",
    "\n",
    "    def __init__(self, units, thetas_dim, device, backcast_length=10, forecast_length=5, nb_harmonics=None):\n",
    "        super(TrendBlock, self).__init__(units, thetas_dim, device, backcast_length,\n",
    "                                         forecast_length, share_thetas=True)\n",
    "\n",
    "    def forward(self, x):\n",
    "        x = super(TrendBlock, self).forward(x)\n",
    "        backcast = trend_model(self.theta_b_fc(x), self.backcast_linspace, self.device)\n",
    "        forecast = trend_model(self.theta_f_fc(x), self.forecast_linspace, self.device)\n",
    "        return backcast, forecast\n",
    "\n",
    "\n",
    "class GenericBlock(Block):\n",
    "\n",
    "    def __init__(self, units, thetas_dim, device, backcast_length=10, forecast_length=5, nb_harmonics=None):\n",
    "        super(GenericBlock, self).__init__(units, thetas_dim, device, backcast_length, forecast_length)\n",
    "\n",
    "        self.backcast_fc = nn.Linear(thetas_dim, backcast_length)\n",
    "        self.forecast_fc = nn.Linear(thetas_dim, forecast_length)\n",
    "\n",
    "    def forward(self, x):\n",
    "        # no constraint for generic arch.\n",
    "        x = super(GenericBlock, self).forward(x)\n",
    "\n",
    "        theta_b = F.relu(self.theta_b_fc(x))\n",
    "        theta_f = F.relu(self.theta_f_fc(x))\n",
    "\n",
    "        backcast = self.backcast_fc(theta_b)  # generic. 3.3.\n",
    "        forecast = self.forecast_fc(theta_f)  # generic. 3.3.\n",
    "\n",
    "        return backcast, forecast"
   ]
  },
  {
   "cell_type": "code",
   "execution_count": 1,
   "metadata": {},
   "outputs": [
    {
     "name": "stdout",
     "output_type": "stream",
     "text": [
      "Converted 00_core.ipynb.\n",
      "Converted 01_stats_utils.ipynb.\n",
      "Converted 02_plot_utils.ipynb.\n",
      "Converted 03_read_data.ipynb.\n",
      "Converted 04_model.ipynb.\n",
      "Converted 05_solar_flux_time_series_forecasting.ipynb.\n",
      "Converted 06_ensemble_utils.ipynb.\n",
      "Converted index.ipynb.\n"
     ]
    }
   ],
   "source": [
    "from nbdev.export import *\n",
    "notebook2script()"
   ]
  },
  {
   "cell_type": "markdown",
   "metadata": {},
   "source": [
    "## Testing"
   ]
  },
  {
   "cell_type": "code",
   "execution_count": 10,
   "metadata": {},
   "outputs": [
    {
     "data": {
      "text/plain": [
       "device(type='cpu')"
      ]
     },
     "execution_count": 10,
     "metadata": {},
     "output_type": "execute_result"
    }
   ],
   "source": [
    "#device = torch.device(\"cuda:0\")\n",
    "device = torch.device(\"cpu\")\n",
    "device"
   ]
  },
  {
   "cell_type": "code",
   "execution_count": 11,
   "metadata": {},
   "outputs": [
    {
     "name": "stdout",
     "output_type": "stream",
     "text": [
      "| N-Beats\n",
      "| --  Stack Trend (#0) (share_weights_in_stack=False)\n",
      "     | -- TrendBlock(units=256, thetas_dim=4, backcast_length=10, forecast_length=5, share_thetas=True) at @140282955378192\n",
      "     | -- TrendBlock(units=256, thetas_dim=4, backcast_length=10, forecast_length=5, share_thetas=True) at @140282955378472\n",
      "     | -- TrendBlock(units=256, thetas_dim=4, backcast_length=10, forecast_length=5, share_thetas=True) at @140282954628568\n",
      "| --  Stack Seasonality (#1) (share_weights_in_stack=False)\n",
      "     | -- SeasonalityBlock(units=256, thetas_dim=5, backcast_length=10, forecast_length=5, share_thetas=True) at @140282954626272\n",
      "     | -- SeasonalityBlock(units=256, thetas_dim=5, backcast_length=10, forecast_length=5, share_thetas=True) at @140282954629016\n",
      "     | -- SeasonalityBlock(units=256, thetas_dim=5, backcast_length=10, forecast_length=5, share_thetas=True) at @140282954627616\n"
     ]
    }
   ],
   "source": [
    "net = NBeatsNet(device=device)"
   ]
  },
  {
   "cell_type": "code",
   "execution_count": 12,
   "metadata": {},
   "outputs": [
    {
     "name": "stdout",
     "output_type": "stream",
     "text": [
      "| N-Beats\n",
      "| --  Stack Generic (#0) (share_weights_in_stack=False)\n",
      "     | -- GenericBlock(units=256, thetas_dim=4, backcast_length=10, forecast_length=5, share_thetas=False) at @140282954985936\n",
      "     | -- GenericBlock(units=256, thetas_dim=4, backcast_length=10, forecast_length=5, share_thetas=False) at @140282954986496\n",
      "     | -- GenericBlock(units=256, thetas_dim=4, backcast_length=10, forecast_length=5, share_thetas=False) at @140282954987000\n",
      "| --  Stack Generic (#1) (share_weights_in_stack=False)\n",
      "     | -- GenericBlock(units=256, thetas_dim=8, backcast_length=10, forecast_length=5, share_thetas=False) at @140282954989016\n",
      "     | -- GenericBlock(units=256, thetas_dim=8, backcast_length=10, forecast_length=5, share_thetas=False) at @140282954986216\n",
      "     | -- GenericBlock(units=256, thetas_dim=8, backcast_length=10, forecast_length=5, share_thetas=False) at @140282954988456\n"
     ]
    }
   ],
   "source": [
    "net = NBeatsNet(device=device,\n",
    "                stack_types=(NBeatsNet.GENERIC_BLOCK, NBeatsNet.GENERIC_BLOCK)\n",
    "               )"
   ]
  },
  {
   "cell_type": "code",
   "execution_count": null,
   "metadata": {},
   "outputs": [],
   "source": []
  }
 ],
 "metadata": {
  "kernelspec": {
   "display_name": "Python 3",
   "language": "python",
   "name": "python3"
  },
  "language_info": {
   "codemirror_mode": {
    "name": "ipython",
    "version": 3
   },
   "file_extension": ".py",
   "mimetype": "text/x-python",
   "name": "python",
   "nbconvert_exporter": "python",
   "pygments_lexer": "ipython3",
   "version": "3.6.9"
  }
 },
 "nbformat": 4,
 "nbformat_minor": 4
}
